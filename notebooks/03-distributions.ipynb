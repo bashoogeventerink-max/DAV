{
 "cells": [
  {
   "cell_type": "markdown",
   "id": "813cc4da",
   "metadata": {},
   "source": [
    "Import packages"
   ]
  },
  {
   "cell_type": "code",
   "execution_count": 4,
   "id": "c6de947a",
   "metadata": {},
   "outputs": [],
   "source": [
    "import seaborn as sns\n",
    "import matplotlib.pyplot as plt\n",
    "import pandas as pd\n",
    "from pathlib import Path\n",
    "from loguru import logger\n",
    "import warnings\n",
    "\n",
    "warnings.filterwarnings(\"ignore\", category=FutureWarning)"
   ]
  },
  {
   "cell_type": "markdown",
   "id": "4c3ee639",
   "metadata": {},
   "source": [
    "Pick file"
   ]
  },
  {
   "cell_type": "code",
   "execution_count": 6,
   "id": "d1a9b6b4",
   "metadata": {},
   "outputs": [
    {
     "data": {
      "text/html": [
       "<div>\n",
       "<style scoped>\n",
       "    .dataframe tbody tr th:only-of-type {\n",
       "        vertical-align: middle;\n",
       "    }\n",
       "\n",
       "    .dataframe tbody tr th {\n",
       "        vertical-align: top;\n",
       "    }\n",
       "\n",
       "    .dataframe thead th {\n",
       "        text-align: right;\n",
       "    }\n",
       "</style>\n",
       "<table border=\"1\" class=\"dataframe\">\n",
       "  <thead>\n",
       "    <tr style=\"text-align: right;\">\n",
       "      <th></th>\n",
       "      <th>timestamp</th>\n",
       "      <th>message</th>\n",
       "      <th>living_in_city</th>\n",
       "      <th>author</th>\n",
       "      <th>has_emoji</th>\n",
       "    </tr>\n",
       "  </thead>\n",
       "  <tbody>\n",
       "    <tr>\n",
       "      <th>0</th>\n",
       "      <td>2022-09-17 16:05:00</td>\n",
       "      <td>Mensen die vnv nog willen chillen?\\n</td>\n",
       "      <td>1</td>\n",
       "      <td>eye-catching-wolf</td>\n",
       "      <td>False</td>\n",
       "    </tr>\n",
       "    <tr>\n",
       "      <th>1</th>\n",
       "      <td>2022-09-17 16:06:00</td>\n",
       "      <td>Ik ben nog in Haarlem/Amsterdam\\n</td>\n",
       "      <td>0</td>\n",
       "      <td>hypnotic-rabbit</td>\n",
       "      <td>False</td>\n",
       "    </tr>\n",
       "    <tr>\n",
       "      <th>2</th>\n",
       "      <td>2022-09-17 16:06:00</td>\n",
       "      <td>Sorry man ik heb feestje van familie\\n</td>\n",
       "      <td>1</td>\n",
       "      <td>nutty-chough</td>\n",
       "      <td>False</td>\n",
       "    </tr>\n",
       "    <tr>\n",
       "      <th>3</th>\n",
       "      <td>2022-09-17 16:21:00</td>\n",
       "      <td>Ai jammer\\n</td>\n",
       "      <td>1</td>\n",
       "      <td>eye-catching-wolf</td>\n",
       "      <td>False</td>\n",
       "    </tr>\n",
       "    <tr>\n",
       "      <th>4</th>\n",
       "      <td>2022-09-17 16:22:00</td>\n",
       "      <td>Andere gegadigden?\\n</td>\n",
       "      <td>1</td>\n",
       "      <td>eye-catching-wolf</td>\n",
       "      <td>False</td>\n",
       "    </tr>\n",
       "  </tbody>\n",
       "</table>\n",
       "</div>"
      ],
      "text/plain": [
       "            timestamp                                  message  \\\n",
       "0 2022-09-17 16:05:00     Mensen die vnv nog willen chillen?\\n   \n",
       "1 2022-09-17 16:06:00        Ik ben nog in Haarlem/Amsterdam\\n   \n",
       "2 2022-09-17 16:06:00   Sorry man ik heb feestje van familie\\n   \n",
       "3 2022-09-17 16:21:00                              Ai jammer\\n   \n",
       "4 2022-09-17 16:22:00                     Andere gegadigden?\\n   \n",
       "\n",
       "   living_in_city             author  has_emoji  \n",
       "0               1  eye-catching-wolf      False  \n",
       "1               0    hypnotic-rabbit      False  \n",
       "2               1       nutty-chough      False  \n",
       "3               1  eye-catching-wolf      False  \n",
       "4               1  eye-catching-wolf      False  "
      ]
     },
     "execution_count": 6,
     "metadata": {},
     "output_type": "execute_result"
    }
   ],
   "source": [
    "import tomllib\n",
    "\n",
    "configfile = Path(\"../config.toml\").resolve()\n",
    "with configfile.open(\"rb\") as f:\n",
    "    config = tomllib.load(f)\n",
    "datafile = (Path(\"..\") / Path(config[\"processed\"]) / config[\"current\"]).resolve()\n",
    "if not datafile.exists():\n",
    "    logger.warning(\n",
    "        \"Datafile does not exist. First run src/preprocess.py, and check the timestamp!\"\n",
    "    )\n",
    "df = pd.read_parquet(datafile)\n",
    "df.head()"
   ]
  },
  {
   "cell_type": "markdown",
   "id": "c567b24b",
   "metadata": {},
   "source": [
    "Length of message"
   ]
  },
  {
   "cell_type": "code",
   "execution_count": 7,
   "id": "4b53cf77",
   "metadata": {},
   "outputs": [
    {
     "data": {
      "text/html": [
       "<div>\n",
       "<style scoped>\n",
       "    .dataframe tbody tr th:only-of-type {\n",
       "        vertical-align: middle;\n",
       "    }\n",
       "\n",
       "    .dataframe tbody tr th {\n",
       "        vertical-align: top;\n",
       "    }\n",
       "\n",
       "    .dataframe thead th {\n",
       "        text-align: right;\n",
       "    }\n",
       "</style>\n",
       "<table border=\"1\" class=\"dataframe\">\n",
       "  <thead>\n",
       "    <tr style=\"text-align: right;\">\n",
       "      <th></th>\n",
       "      <th>timestamp</th>\n",
       "      <th>message</th>\n",
       "      <th>living_in_city</th>\n",
       "      <th>author</th>\n",
       "      <th>has_emoji</th>\n",
       "      <th>word_count</th>\n",
       "    </tr>\n",
       "  </thead>\n",
       "  <tbody>\n",
       "    <tr>\n",
       "      <th>0</th>\n",
       "      <td>2022-09-17 16:05:00</td>\n",
       "      <td>Mensen die vnv nog willen chillen?\\n</td>\n",
       "      <td>1</td>\n",
       "      <td>eye-catching-wolf</td>\n",
       "      <td>False</td>\n",
       "      <td>6</td>\n",
       "    </tr>\n",
       "    <tr>\n",
       "      <th>1</th>\n",
       "      <td>2022-09-17 16:06:00</td>\n",
       "      <td>Ik ben nog in Haarlem/Amsterdam\\n</td>\n",
       "      <td>0</td>\n",
       "      <td>hypnotic-rabbit</td>\n",
       "      <td>False</td>\n",
       "      <td>5</td>\n",
       "    </tr>\n",
       "    <tr>\n",
       "      <th>2</th>\n",
       "      <td>2022-09-17 16:06:00</td>\n",
       "      <td>Sorry man ik heb feestje van familie\\n</td>\n",
       "      <td>1</td>\n",
       "      <td>nutty-chough</td>\n",
       "      <td>False</td>\n",
       "      <td>7</td>\n",
       "    </tr>\n",
       "    <tr>\n",
       "      <th>3</th>\n",
       "      <td>2022-09-17 16:21:00</td>\n",
       "      <td>Ai jammer\\n</td>\n",
       "      <td>1</td>\n",
       "      <td>eye-catching-wolf</td>\n",
       "      <td>False</td>\n",
       "      <td>2</td>\n",
       "    </tr>\n",
       "    <tr>\n",
       "      <th>4</th>\n",
       "      <td>2022-09-17 16:22:00</td>\n",
       "      <td>Andere gegadigden?\\n</td>\n",
       "      <td>1</td>\n",
       "      <td>eye-catching-wolf</td>\n",
       "      <td>False</td>\n",
       "      <td>2</td>\n",
       "    </tr>\n",
       "  </tbody>\n",
       "</table>\n",
       "</div>"
      ],
      "text/plain": [
       "            timestamp                                  message  \\\n",
       "0 2022-09-17 16:05:00     Mensen die vnv nog willen chillen?\\n   \n",
       "1 2022-09-17 16:06:00        Ik ben nog in Haarlem/Amsterdam\\n   \n",
       "2 2022-09-17 16:06:00   Sorry man ik heb feestje van familie\\n   \n",
       "3 2022-09-17 16:21:00                              Ai jammer\\n   \n",
       "4 2022-09-17 16:22:00                     Andere gegadigden?\\n   \n",
       "\n",
       "   living_in_city             author  has_emoji  word_count  \n",
       "0               1  eye-catching-wolf      False           6  \n",
       "1               0    hypnotic-rabbit      False           5  \n",
       "2               1       nutty-chough      False           7  \n",
       "3               1  eye-catching-wolf      False           2  \n",
       "4               1  eye-catching-wolf      False           2  "
      ]
     },
     "execution_count": 7,
     "metadata": {},
     "output_type": "execute_result"
    }
   ],
   "source": [
    "# Calculate the word count for each message\n",
    "df['word_count'] = df['message'].str.split().str.len()\n",
    "df.head() "
   ]
  },
  {
   "cell_type": "code",
   "execution_count": 8,
   "id": "a48e5c89",
   "metadata": {},
   "outputs": [
    {
     "name": "stderr",
     "output_type": "stream",
     "text": [
      "/tmp/ipykernel_3015/953488329.py:3: RuntimeWarning: divide by zero encountered in log\n",
      "  df[\"log_len\"] = df[\"word_count\"].apply(lambda x: np.log(x))\n"
     ]
    },
    {
     "data": {
      "text/plain": [
       "<Axes: xlabel='log_len', ylabel='Count'>"
      ]
     },
     "execution_count": 8,
     "metadata": {},
     "output_type": "execute_result"
    },
    {
     "data": {
      "image/png": "[encoded data removed]",
      "text/plain": [
       "<Figure size 640x480 with 1 Axes>"
      ]
     },
     "metadata": {},
     "output_type": "display_data"
    }
   ],
   "source": [
    "import numpy as np\n",
    "\n",
    "df[\"log_len\"] = df[\"word_count\"].apply(lambda x: np.log(x))\n",
    "sns.histplot(df, x=\"log_len\", kde=True)"
   ]
  }
 ],
 "metadata": {
  "kernelspec": {
   "display_name": "dav",
   "language": "python",
   "name": "python3"
  },
  "language_info": {
   "codemirror_mode": {
    "name": "ipython",
    "version": 3
   },
   "file_extension": ".py",
   "mimetype": "text/x-python",
   "name": "python",
   "nbconvert_exporter": "python",
   "pygments_lexer": "ipython3",
   "version": "3.12.8"
  }
 },
 "nbformat": 4,
 "nbformat_minor": 5
}
