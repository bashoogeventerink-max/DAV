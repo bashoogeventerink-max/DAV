{
 "cells": [
  {
   "cell_type": "markdown",
   "id": "813cc4da",
   "metadata": {},
   "source": [
    "Import packages"
   ]
  },
  {
   "cell_type": "code",
   "execution_count": 1,
   "id": "c6de947a",
   "metadata": {},
   "outputs": [],
   "source": [
    "import seaborn as sns\n",
    "import matplotlib.pyplot as plt\n",
    "import pandas as pd\n",
    "from pathlib import Path\n",
    "from loguru import logger\n",
    "import warnings\n",
    "\n",
    "warnings.filterwarnings(\"ignore\", category=FutureWarning)"
   ]
  },
  {
   "cell_type": "markdown",
   "id": "4c3ee639",
   "metadata": {},
   "source": [
    "Pick file"
   ]
  },
  {
   "cell_type": "code",
   "execution_count": 2,
   "id": "d1a9b6b4",
   "metadata": {},
   "outputs": [
    {
     "data": {
      "text/html": [
       "<div>\n",
       "<style scoped>\n",
       "    .dataframe tbody tr th:only-of-type {\n",
       "        vertical-align: middle;\n",
       "    }\n",
       "\n",
       "    .dataframe tbody tr th {\n",
       "        vertical-align: top;\n",
       "    }\n",
       "\n",
       "    .dataframe thead th {\n",
       "        text-align: right;\n",
       "    }\n",
       "</style>\n",
       "<table border=\"1\" class=\"dataframe\">\n",
       "  <thead>\n",
       "    <tr style=\"text-align: right;\">\n",
       "      <th></th>\n",
       "      <th>timestamp</th>\n",
       "      <th>message</th>\n",
       "      <th>author</th>\n",
       "      <th>has_emoji</th>\n",
       "    </tr>\n",
       "  </thead>\n",
       "  <tbody>\n",
       "    <tr>\n",
       "      <th>0</th>\n",
       "      <td>2017-05-12 17:43:00</td>\n",
       "      <td>12-05-2017 17:43 - Je bent toegevoegd\\n</td>\n",
       "      <td>glittering-penguin</td>\n",
       "      <td>False</td>\n",
       "    </tr>\n",
       "    <tr>\n",
       "      <th>1</th>\n",
       "      <td>2022-09-16 09:26:00</td>\n",
       "      <td>Wachten op dit bericht\\n</td>\n",
       "      <td>eye-catching-wolf</td>\n",
       "      <td>False</td>\n",
       "    </tr>\n",
       "    <tr>\n",
       "      <th>2</th>\n",
       "      <td>2022-09-16 07:31:00</td>\n",
       "      <td>Wachten op dit bericht\\n</td>\n",
       "      <td>spattered-duck</td>\n",
       "      <td>False</td>\n",
       "    </tr>\n",
       "    <tr>\n",
       "      <th>3</th>\n",
       "      <td>2022-09-16 07:41:00</td>\n",
       "      <td>16-09-2022 07:41 - Schjöpschen: Wachten op dit...</td>\n",
       "      <td>riotous-dingo</td>\n",
       "      <td>False</td>\n",
       "    </tr>\n",
       "    <tr>\n",
       "      <th>4</th>\n",
       "      <td>2022-09-16 08:21:00</td>\n",
       "      <td>Wachten op dit bericht\\n</td>\n",
       "      <td>translucent-dog</td>\n",
       "      <td>False</td>\n",
       "    </tr>\n",
       "  </tbody>\n",
       "</table>\n",
       "</div>"
      ],
      "text/plain": [
       "            timestamp                                            message  \\\n",
       "0 2017-05-12 17:43:00            12-05-2017 17:43 - Je bent toegevoegd\\n   \n",
       "1 2022-09-16 09:26:00                           Wachten op dit bericht\\n   \n",
       "2 2022-09-16 07:31:00                           Wachten op dit bericht\\n   \n",
       "3 2022-09-16 07:41:00  16-09-2022 07:41 - Schjöpschen: Wachten op dit...   \n",
       "4 2022-09-16 08:21:00                           Wachten op dit bericht\\n   \n",
       "\n",
       "               author  has_emoji  \n",
       "0  glittering-penguin      False  \n",
       "1   eye-catching-wolf      False  \n",
       "2      spattered-duck      False  \n",
       "3       riotous-dingo      False  \n",
       "4     translucent-dog      False  "
      ]
     },
     "execution_count": 2,
     "metadata": {},
     "output_type": "execute_result"
    }
   ],
   "source": [
    "import tomllib\n",
    "\n",
    "configfile = Path(\"../config.toml\").resolve()\n",
    "with configfile.open(\"rb\") as f:\n",
    "    config = tomllib.load(f)\n",
    "datafile = (Path(\"..\") / Path(config[\"processed\"]) / config[\"current\"]).resolve()\n",
    "if not datafile.exists():\n",
    "    logger.warning(\n",
    "        \"Datafile does not exist. First run src/preprocess.py, and check the timestamp!\"\n",
    "    )\n",
    "df = pd.read_parquet(datafile)\n",
    "df.head()"
   ]
  },
  {
   "cell_type": "markdown",
   "id": "c567b24b",
   "metadata": {},
   "source": [
    "Length of message"
   ]
  },
  {
   "cell_type": "code",
   "execution_count": 5,
   "id": "4b53cf77",
   "metadata": {},
   "outputs": [
    {
     "data": {
      "text/html": [
       "<div>\n",
       "<style scoped>\n",
       "    .dataframe tbody tr th:only-of-type {\n",
       "        vertical-align: middle;\n",
       "    }\n",
       "\n",
       "    .dataframe tbody tr th {\n",
       "        vertical-align: top;\n",
       "    }\n",
       "\n",
       "    .dataframe thead th {\n",
       "        text-align: right;\n",
       "    }\n",
       "</style>\n",
       "<table border=\"1\" class=\"dataframe\">\n",
       "  <thead>\n",
       "    <tr style=\"text-align: right;\">\n",
       "      <th></th>\n",
       "      <th>timestamp</th>\n",
       "      <th>message</th>\n",
       "      <th>author</th>\n",
       "      <th>has_emoji</th>\n",
       "      <th>word_count</th>\n",
       "    </tr>\n",
       "  </thead>\n",
       "  <tbody>\n",
       "    <tr>\n",
       "      <th>0</th>\n",
       "      <td>2017-05-12 17:43:00</td>\n",
       "      <td>12-05-2017 17:43 - Je bent toegevoegd\\n</td>\n",
       "      <td>glittering-penguin</td>\n",
       "      <td>False</td>\n",
       "      <td>6</td>\n",
       "    </tr>\n",
       "    <tr>\n",
       "      <th>1</th>\n",
       "      <td>2022-09-16 09:26:00</td>\n",
       "      <td>Wachten op dit bericht\\n</td>\n",
       "      <td>eye-catching-wolf</td>\n",
       "      <td>False</td>\n",
       "      <td>4</td>\n",
       "    </tr>\n",
       "    <tr>\n",
       "      <th>2</th>\n",
       "      <td>2022-09-16 07:31:00</td>\n",
       "      <td>Wachten op dit bericht\\n</td>\n",
       "      <td>spattered-duck</td>\n",
       "      <td>False</td>\n",
       "      <td>4</td>\n",
       "    </tr>\n",
       "    <tr>\n",
       "      <th>3</th>\n",
       "      <td>2022-09-16 07:41:00</td>\n",
       "      <td>16-09-2022 07:41 - Schjöpschen: Wachten op dit...</td>\n",
       "      <td>riotous-dingo</td>\n",
       "      <td>False</td>\n",
       "      <td>8</td>\n",
       "    </tr>\n",
       "    <tr>\n",
       "      <th>4</th>\n",
       "      <td>2022-09-16 08:21:00</td>\n",
       "      <td>Wachten op dit bericht\\n</td>\n",
       "      <td>translucent-dog</td>\n",
       "      <td>False</td>\n",
       "      <td>4</td>\n",
       "    </tr>\n",
       "  </tbody>\n",
       "</table>\n",
       "</div>"
      ],
      "text/plain": [
       "            timestamp                                            message  \\\n",
       "0 2017-05-12 17:43:00            12-05-2017 17:43 - Je bent toegevoegd\\n   \n",
       "1 2022-09-16 09:26:00                           Wachten op dit bericht\\n   \n",
       "2 2022-09-16 07:31:00                           Wachten op dit bericht\\n   \n",
       "3 2022-09-16 07:41:00  16-09-2022 07:41 - Schjöpschen: Wachten op dit...   \n",
       "4 2022-09-16 08:21:00                           Wachten op dit bericht\\n   \n",
       "\n",
       "               author  has_emoji  word_count  \n",
       "0  glittering-penguin      False           6  \n",
       "1   eye-catching-wolf      False           4  \n",
       "2      spattered-duck      False           4  \n",
       "3       riotous-dingo      False           8  \n",
       "4     translucent-dog      False           4  "
      ]
     },
     "execution_count": 5,
     "metadata": {},
     "output_type": "execute_result"
    }
   ],
   "source": [
    "# Calculate the word count for each message\n",
    "df['word_count'] = df['message'].str.split().str.len()\n",
    "df.head() "
   ]
  },
  {
   "cell_type": "code",
   "execution_count": 7,
   "id": "a48e5c89",
   "metadata": {},
   "outputs": [
    {
     "name": "stderr",
     "output_type": "stream",
     "text": [
      "/tmp/ipykernel_7140/953488329.py:3: RuntimeWarning: divide by zero encountered in log\n",
      "  df[\"log_len\"] = df[\"word_count\"].apply(lambda x: np.log(x))\n"
     ]
    },
    {
     "data": {
      "text/plain": [
       "<Axes: xlabel='log_len', ylabel='Count'>"
      ]
     },
     "execution_count": 7,
     "metadata": {},
     "output_type": "execute_result"
    },
    {
     "data": {
      "image/png": "[encoded data removed]",
      "text/plain": [
       "<Figure size 640x480 with 1 Axes>"
      ]
     },
     "metadata": {},
     "output_type": "display_data"
    }
   ],
   "source": [
    "import numpy as np\n",
    "\n",
    "df[\"log_len\"] = df[\"word_count\"].apply(lambda x: np.log(x))\n",
    "sns.histplot(df, x=\"log_len\", kde=True)"
   ]
  }
 ],
 "metadata": {
  "kernelspec": {
   "display_name": "dav",
   "language": "python",
   "name": "python3"
  },
  "language_info": {
   "codemirror_mode": {
    "name": "ipython",
    "version": 3
   },
   "file_extension": ".py",
   "mimetype": "text/x-python",
   "name": "python",
   "nbconvert_exporter": "python",
   "pygments_lexer": "ipython3",
   "version": "3.12.8"
  }
 },
 "nbformat": 4,
 "nbformat_minor": 5
}
