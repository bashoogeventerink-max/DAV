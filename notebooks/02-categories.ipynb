{
 "cells": [
  {
   "cell_type": "code",
   "execution_count": 2,
   "id": "41cb6ab2",
   "metadata": {},
   "outputs": [],
   "source": [
    "import seaborn as sns\n",
    "import matplotlib.pyplot as plt\n",
    "import pandas as pd\n",
    "from pathlib import Path\n",
    "from loguru import logger\n",
    "import warnings\n",
    "\n",
    "warnings.simplefilter(action=\"ignore\", category=FutureWarning)"
   ]
  },
  {
   "cell_type": "markdown",
   "id": "28262d1e",
   "metadata": {},
   "source": [
    "load parquetfile from notebook 01."
   ]
  },
  {
   "cell_type": "code",
   "execution_count": 3,
   "id": "85ce08e8",
   "metadata": {},
   "outputs": [
    {
     "data": {
      "text/plain": [
       "{'raw': 'data/raw',\n",
       " 'processed': 'data/processed',\n",
       " 'input': '_chat.txt',\n",
       " 'current': 'whatsapp-20250923-192055.parq',\n",
       " 'inputpath': 'whatsapp-20250923-170023.csv',\n",
       " 'datetime_format': '%d/%m/%Y, %H:%M',\n",
       " 'drop_authors': []}"
      ]
     },
     "execution_count": 3,
     "metadata": {},
     "output_type": "execute_result"
    }
   ],
   "source": [
    "import tomllib\n",
    "\n",
    "configfile = Path(\"../config.toml\").resolve()\n",
    "with configfile.open(\"rb\") as f:\n",
    "    config = tomllib.load(f)\n",
    "config"
   ]
  },
  {
   "cell_type": "code",
   "execution_count": 4,
   "id": "577fc309",
   "metadata": {},
   "outputs": [],
   "source": [
    "root = Path(\"..\").resolve()\n",
    "processed = root / Path(config[\"processed\"])\n",
    "datafile = processed / config[\"current\"]\n",
    "if not datafile.exists():\n",
    "    logger.warning(\n",
    "        f\"{datafile} does not exist. First run src/preprocess.py, and check the timestamp!\"\n",
    "    )"
   ]
  },
  {
   "cell_type": "markdown",
   "id": "cc9e695d",
   "metadata": {},
   "source": [
    "Show datatypes"
   ]
  },
  {
   "cell_type": "code",
   "execution_count": 5,
   "id": "40b66e7c",
   "metadata": {},
   "outputs": [
    {
     "data": {
      "text/plain": [
       "timestamp    datetime64[ns]\n",
       "message              object\n",
       "author               object\n",
       "has_emoji              bool\n",
       "dtype: object"
      ]
     },
     "execution_count": 5,
     "metadata": {},
     "output_type": "execute_result"
    }
   ],
   "source": [
    "df = pd.read_parquet(datafile)\n",
    "df.dtypes"
   ]
  },
  {
   "cell_type": "code",
   "execution_count": 6,
   "id": "87f30b67",
   "metadata": {},
   "outputs": [
    {
     "data": {
      "text/html": [
       "<div>\n",
       "<style scoped>\n",
       "    .dataframe tbody tr th:only-of-type {\n",
       "        vertical-align: middle;\n",
       "    }\n",
       "\n",
       "    .dataframe tbody tr th {\n",
       "        vertical-align: top;\n",
       "    }\n",
       "\n",
       "    .dataframe thead th {\n",
       "        text-align: right;\n",
       "    }\n",
       "</style>\n",
       "<table border=\"1\" class=\"dataframe\">\n",
       "  <thead>\n",
       "    <tr style=\"text-align: right;\">\n",
       "      <th></th>\n",
       "      <th>timestamp</th>\n",
       "      <th>message</th>\n",
       "      <th>author</th>\n",
       "      <th>has_emoji</th>\n",
       "    </tr>\n",
       "  </thead>\n",
       "  <tbody>\n",
       "    <tr>\n",
       "      <th>0</th>\n",
       "      <td>2017-05-12 17:43:00</td>\n",
       "      <td>12-05-2017 17:43 - Je bent toegevoegd\\n</td>\n",
       "      <td>glittering-penguin</td>\n",
       "      <td>False</td>\n",
       "    </tr>\n",
       "    <tr>\n",
       "      <th>1</th>\n",
       "      <td>2022-09-16 09:26:00</td>\n",
       "      <td>Wachten op dit bericht\\n</td>\n",
       "      <td>eye-catching-wolf</td>\n",
       "      <td>False</td>\n",
       "    </tr>\n",
       "    <tr>\n",
       "      <th>2</th>\n",
       "      <td>2022-09-16 07:31:00</td>\n",
       "      <td>Wachten op dit bericht\\n</td>\n",
       "      <td>spattered-duck</td>\n",
       "      <td>False</td>\n",
       "    </tr>\n",
       "    <tr>\n",
       "      <th>3</th>\n",
       "      <td>2022-09-16 07:41:00</td>\n",
       "      <td>16-09-2022 07:41 - Schjöpschen: Wachten op dit...</td>\n",
       "      <td>riotous-dingo</td>\n",
       "      <td>False</td>\n",
       "    </tr>\n",
       "    <tr>\n",
       "      <th>4</th>\n",
       "      <td>2022-09-16 08:21:00</td>\n",
       "      <td>Wachten op dit bericht\\n</td>\n",
       "      <td>translucent-dog</td>\n",
       "      <td>False</td>\n",
       "    </tr>\n",
       "  </tbody>\n",
       "</table>\n",
       "</div>"
      ],
      "text/plain": [
       "            timestamp                                            message  \\\n",
       "0 2017-05-12 17:43:00            12-05-2017 17:43 - Je bent toegevoegd\\n   \n",
       "1 2022-09-16 09:26:00                           Wachten op dit bericht\\n   \n",
       "2 2022-09-16 07:31:00                           Wachten op dit bericht\\n   \n",
       "3 2022-09-16 07:41:00  16-09-2022 07:41 - Schjöpschen: Wachten op dit...   \n",
       "4 2022-09-16 08:21:00                           Wachten op dit bericht\\n   \n",
       "\n",
       "               author  has_emoji  \n",
       "0  glittering-penguin      False  \n",
       "1   eye-catching-wolf      False  \n",
       "2      spattered-duck      False  \n",
       "3       riotous-dingo      False  \n",
       "4     translucent-dog      False  "
      ]
     },
     "execution_count": 6,
     "metadata": {},
     "output_type": "execute_result"
    }
   ],
   "source": [
    "df.head()"
   ]
  },
  {
   "cell_type": "markdown",
   "id": "88d968d0",
   "metadata": {},
   "source": [
    "Count the number of messages"
   ]
  },
  {
   "cell_type": "code",
   "execution_count": 7,
   "id": "7cd36960",
   "metadata": {},
   "outputs": [],
   "source": [
    "p1 = (\n",
    "    df[[\"author\", \"message\"]]\n",
    "    .groupby(\"author\")\n",
    "    .count()\n",
    "    .sort_values(\"message\", ascending=False)\n",
    ")\n",
    "\n",
    "k = 15\n",
    "topk = p1[:k]"
   ]
  },
  {
   "cell_type": "code",
   "execution_count": 8,
   "id": "4ee5c95f",
   "metadata": {},
   "outputs": [],
   "source": [
    "topk_authors = list(topk.index)"
   ]
  },
  {
   "cell_type": "code",
   "execution_count": 9,
   "id": "edf14d66",
   "metadata": {},
   "outputs": [
    {
     "data": {
      "text/html": [
       "<div>\n",
       "<style scoped>\n",
       "    .dataframe tbody tr th:only-of-type {\n",
       "        vertical-align: middle;\n",
       "    }\n",
       "\n",
       "    .dataframe tbody tr th {\n",
       "        vertical-align: top;\n",
       "    }\n",
       "\n",
       "    .dataframe thead th {\n",
       "        text-align: right;\n",
       "    }\n",
       "</style>\n",
       "<table border=\"1\" class=\"dataframe\">\n",
       "  <thead>\n",
       "    <tr style=\"text-align: right;\">\n",
       "      <th></th>\n",
       "      <th>timestamp</th>\n",
       "      <th>message</th>\n",
       "      <th>author</th>\n",
       "      <th>has_emoji</th>\n",
       "      <th>is_topk</th>\n",
       "    </tr>\n",
       "  </thead>\n",
       "  <tbody>\n",
       "    <tr>\n",
       "      <th>0</th>\n",
       "      <td>2017-05-12 17:43:00</td>\n",
       "      <td>12-05-2017 17:43 - Je bent toegevoegd\\n</td>\n",
       "      <td>glittering-penguin</td>\n",
       "      <td>False</td>\n",
       "      <td>True</td>\n",
       "    </tr>\n",
       "    <tr>\n",
       "      <th>1</th>\n",
       "      <td>2022-09-16 09:26:00</td>\n",
       "      <td>Wachten op dit bericht\\n</td>\n",
       "      <td>eye-catching-wolf</td>\n",
       "      <td>False</td>\n",
       "      <td>True</td>\n",
       "    </tr>\n",
       "    <tr>\n",
       "      <th>2</th>\n",
       "      <td>2022-09-16 07:31:00</td>\n",
       "      <td>Wachten op dit bericht\\n</td>\n",
       "      <td>spattered-duck</td>\n",
       "      <td>False</td>\n",
       "      <td>True</td>\n",
       "    </tr>\n",
       "    <tr>\n",
       "      <th>3</th>\n",
       "      <td>2022-09-16 07:41:00</td>\n",
       "      <td>16-09-2022 07:41 - Schjöpschen: Wachten op dit...</td>\n",
       "      <td>riotous-dingo</td>\n",
       "      <td>False</td>\n",
       "      <td>True</td>\n",
       "    </tr>\n",
       "    <tr>\n",
       "      <th>4</th>\n",
       "      <td>2022-09-16 08:21:00</td>\n",
       "      <td>Wachten op dit bericht\\n</td>\n",
       "      <td>translucent-dog</td>\n",
       "      <td>False</td>\n",
       "      <td>True</td>\n",
       "    </tr>\n",
       "  </tbody>\n",
       "</table>\n",
       "</div>"
      ],
      "text/plain": [
       "            timestamp                                            message  \\\n",
       "0 2017-05-12 17:43:00            12-05-2017 17:43 - Je bent toegevoegd\\n   \n",
       "1 2022-09-16 09:26:00                           Wachten op dit bericht\\n   \n",
       "2 2022-09-16 07:31:00                           Wachten op dit bericht\\n   \n",
       "3 2022-09-16 07:41:00  16-09-2022 07:41 - Schjöpschen: Wachten op dit...   \n",
       "4 2022-09-16 08:21:00                           Wachten op dit bericht\\n   \n",
       "\n",
       "               author  has_emoji  is_topk  \n",
       "0  glittering-penguin      False     True  \n",
       "1   eye-catching-wolf      False     True  \n",
       "2      spattered-duck      False     True  \n",
       "3       riotous-dingo      False     True  \n",
       "4     translucent-dog      False     True  "
      ]
     },
     "execution_count": 9,
     "metadata": {},
     "output_type": "execute_result"
    }
   ],
   "source": [
    "df[\"is_topk\"] = df[\"author\"].apply(lambda x: x in topk_authors)\n",
    "df.head()"
   ]
  },
  {
   "cell_type": "code",
   "execution_count": 10,
   "id": "9974d9d8",
   "metadata": {},
   "outputs": [
    {
     "data": {
      "text/plain": [
       "Text(0.5, 1.0, 'Sending the most messages...')"
      ]
     },
     "execution_count": 10,
     "metadata": {},
     "output_type": "execute_result"
    },
    {
     "data": {
      "image/png": "[encoded data removed]",
      "text/plain": [
       "<Figure size 1200x600 with 1 Axes>"
      ]
     },
     "metadata": {},
     "output_type": "display_data"
    }
   ],
   "source": [
    "plt.figure(figsize=(12, 6))\n",
    "sns.barplot(y=p1.index[:k], x=\"message\", data=topk)\n",
    "plt.xticks(rotation=90)\n",
    "plt.title(\"Sending the most messages...\")"
   ]
  }
 ],
 "metadata": {
  "kernelspec": {
   "display_name": "dav",
   "language": "python",
   "name": "python3"
  },
  "language_info": {
   "codemirror_mode": {
    "name": "ipython",
    "version": 3
   },
   "file_extension": ".py",
   "mimetype": "text/x-python",
   "name": "python",
   "nbconvert_exporter": "python",
   "pygments_lexer": "ipython3",
   "version": "3.12.8"
  }
 },
 "nbformat": 4,
 "nbformat_minor": 5
}
