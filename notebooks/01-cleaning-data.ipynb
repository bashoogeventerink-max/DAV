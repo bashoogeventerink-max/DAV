{
 "cells": [
  {
   "cell_type": "code",
   "execution_count": 1,
   "id": "e2c84e7d",
   "metadata": {},
   "outputs": [],
   "source": [
    "from pathlib import Path\n",
    "from loguru import logger\n",
    "import pandas as pd\n",
    "from datetime import datetime"
   ]
  },
  {
   "cell_type": "markdown",
   "id": "73f6851a",
   "metadata": {},
   "source": [
    "read file   "
   ]
  },
  {
   "cell_type": "code",
   "execution_count": 2,
   "id": "6792fb62",
   "metadata": {},
   "outputs": [],
   "source": [
    "import tomllib\n",
    "\n",
    "configfile = Path(\"../config.toml\").resolve()\n",
    "with configfile.open(\"rb\") as f:\n",
    "    config = tomllib.load(f)\n",
    "processed = Path(\"../data/processed\")\n",
    "datafile = processed / config[\"inputpath\"]\n",
    "if not datafile.exists():\n",
    "    logger.warning(\n",
    "        f\"{datafile} does not exist. Maybe first run src/preprocess.py, or check the timestamp!\"\n",
    "    )"
   ]
  },
  {
   "cell_type": "code",
   "execution_count": 3,
   "id": "efc4e39e",
   "metadata": {},
   "outputs": [
    {
     "data": {
      "text/html": [
       "<div>\n",
       "<style scoped>\n",
       "    .dataframe tbody tr th:only-of-type {\n",
       "        vertical-align: middle;\n",
       "    }\n",
       "\n",
       "    .dataframe tbody tr th {\n",
       "        vertical-align: top;\n",
       "    }\n",
       "\n",
       "    .dataframe thead th {\n",
       "        text-align: right;\n",
       "    }\n",
       "</style>\n",
       "<table border=\"1\" class=\"dataframe\">\n",
       "  <thead>\n",
       "    <tr style=\"text-align: right;\">\n",
       "      <th></th>\n",
       "      <th>timestamp</th>\n",
       "      <th>author</th>\n",
       "      <th>message</th>\n",
       "    </tr>\n",
       "  </thead>\n",
       "  <tbody>\n",
       "    <tr>\n",
       "      <th>0</th>\n",
       "      <td>2017-05-12 17:43:00</td>\n",
       "      <td>Unknown</td>\n",
       "      <td>12-05-2017 17:43 - ‎Thies Jan Weijmans heeft d...</td>\n",
       "    </tr>\n",
       "    <tr>\n",
       "      <th>1</th>\n",
       "      <td>2017-05-12 17:43:00</td>\n",
       "      <td>Unknown</td>\n",
       "      <td>12-05-2017 17:43 - Je bent toegevoegd\\n</td>\n",
       "    </tr>\n",
       "    <tr>\n",
       "      <th>2</th>\n",
       "      <td>2022-09-16 09:26:00</td>\n",
       "      <td>Bas hooge Venterink</td>\n",
       "      <td>Wachten op dit bericht\\n</td>\n",
       "    </tr>\n",
       "    <tr>\n",
       "      <th>3</th>\n",
       "      <td>2022-09-16 07:31:00</td>\n",
       "      <td>Smeerbeer van Dijk</td>\n",
       "      <td>Wachten op dit bericht\\n</td>\n",
       "    </tr>\n",
       "    <tr>\n",
       "      <th>4</th>\n",
       "      <td>2022-09-16 07:41:00</td>\n",
       "      <td>Schjöpschen</td>\n",
       "      <td>16-09-2022 07:41 - Schjöpschen: Wachten op dit...</td>\n",
       "    </tr>\n",
       "  </tbody>\n",
       "</table>\n",
       "</div>"
      ],
      "text/plain": [
       "            timestamp               author  \\\n",
       "0 2017-05-12 17:43:00              Unknown   \n",
       "1 2017-05-12 17:43:00              Unknown   \n",
       "2 2022-09-16 09:26:00  Bas hooge Venterink   \n",
       "3 2022-09-16 07:31:00   Smeerbeer van Dijk   \n",
       "4 2022-09-16 07:41:00          Schjöpschen   \n",
       "\n",
       "                                             message  \n",
       "0  12-05-2017 17:43 - ‎Thies Jan Weijmans heeft d...  \n",
       "1            12-05-2017 17:43 - Je bent toegevoegd\\n  \n",
       "2                           Wachten op dit bericht\\n  \n",
       "3                           Wachten op dit bericht\\n  \n",
       "4  16-09-2022 07:41 - Schjöpschen: Wachten op dit...  "
      ]
     },
     "execution_count": 3,
     "metadata": {},
     "output_type": "execute_result"
    }
   ],
   "source": [
    "df = pd.read_csv(datafile, parse_dates=[\"timestamp\"])\n",
    "df.head()"
   ]
  },
  {
   "cell_type": "markdown",
   "id": "bf89542b",
   "metadata": {},
   "source": [
    "Check the datatypes"
   ]
  },
  {
   "cell_type": "code",
   "execution_count": 4,
   "id": "76c74abd",
   "metadata": {},
   "outputs": [
    {
     "data": {
      "text/plain": [
       "timestamp    datetime64[ns]\n",
       "author               object\n",
       "message              object\n",
       "dtype: object"
      ]
     },
     "execution_count": 4,
     "metadata": {},
     "output_type": "execute_result"
    }
   ],
   "source": [
    "df.dtypes"
   ]
  },
  {
   "cell_type": "markdown",
   "id": "4691277b",
   "metadata": {},
   "source": [
    "Clean tilde of author name"
   ]
  },
  {
   "cell_type": "code",
   "execution_count": 5,
   "id": "7370da87",
   "metadata": {},
   "outputs": [],
   "source": [
    "import re\n",
    "\n",
    "clean_tilde = r\"^~\\u202f\"\n",
    "df[\"author\"] = df[\"author\"].apply(lambda x: re.sub(clean_tilde, \"\", x))"
   ]
  },
  {
   "cell_type": "markdown",
   "id": "e83ba5bc",
   "metadata": {},
   "source": [
    "Check unique author names"
   ]
  },
  {
   "cell_type": "code",
   "execution_count": 6,
   "id": "567c33bc",
   "metadata": {},
   "outputs": [
    {
     "data": {
      "text/plain": [
       "10"
      ]
     },
     "execution_count": 6,
     "metadata": {},
     "output_type": "execute_result"
    }
   ],
   "source": [
    "len(df.author.unique())"
   ]
  },
  {
   "cell_type": "markdown",
   "id": "2c7be71f",
   "metadata": {},
   "source": [
    "Anonomize authors"
   ]
  },
  {
   "cell_type": "code",
   "execution_count": 7,
   "id": "780bd546",
   "metadata": {},
   "outputs": [],
   "source": [
    "import json\n",
    "from wa_analyzer.humanhasher import humanize\n",
    "\n",
    "authors = df.author.unique()\n",
    "anon = {k: humanize(k) for k in authors}\n",
    "# we save a reference file so we can look up the original author names if we want to\n",
    "reference_file = processed / \"anon_reference.json\"\n",
    "\n",
    "with open(reference_file, \"w\") as f:\n",
    "    # invert the dictionary:\n",
    "    ref = {v: k for k, v in anon.items()}\n",
    "    # sort alphabetically:\n",
    "    ref_sorted = {k: ref[k] for k in sorted(ref.keys())}\n",
    "    # save as json:\n",
    "    json.dump(ref_sorted, f)\n",
    "\n",
    "\n",
    "if not len(anon) == len(authors):\n",
    "    raise ValueError(\"you lost some authors!\")"
   ]
  },
  {
   "cell_type": "code",
   "execution_count": 8,
   "id": "42b28229",
   "metadata": {},
   "outputs": [
    {
     "data": {
      "text/html": [
       "<div>\n",
       "<style scoped>\n",
       "    .dataframe tbody tr th:only-of-type {\n",
       "        vertical-align: middle;\n",
       "    }\n",
       "\n",
       "    .dataframe tbody tr th {\n",
       "        vertical-align: top;\n",
       "    }\n",
       "\n",
       "    .dataframe thead th {\n",
       "        text-align: right;\n",
       "    }\n",
       "</style>\n",
       "<table border=\"1\" class=\"dataframe\">\n",
       "  <thead>\n",
       "    <tr style=\"text-align: right;\">\n",
       "      <th></th>\n",
       "      <th>timestamp</th>\n",
       "      <th>author</th>\n",
       "      <th>message</th>\n",
       "      <th>anon_author</th>\n",
       "    </tr>\n",
       "  </thead>\n",
       "  <tbody>\n",
       "    <tr>\n",
       "      <th>0</th>\n",
       "      <td>2017-05-12 17:43:00</td>\n",
       "      <td>Unknown</td>\n",
       "      <td>12-05-2017 17:43 - ‎Thies Jan Weijmans heeft d...</td>\n",
       "      <td>glittering-penguin</td>\n",
       "    </tr>\n",
       "    <tr>\n",
       "      <th>1</th>\n",
       "      <td>2017-05-12 17:43:00</td>\n",
       "      <td>Unknown</td>\n",
       "      <td>12-05-2017 17:43 - Je bent toegevoegd\\n</td>\n",
       "      <td>glittering-penguin</td>\n",
       "    </tr>\n",
       "    <tr>\n",
       "      <th>2</th>\n",
       "      <td>2022-09-16 09:26:00</td>\n",
       "      <td>Bas hooge Venterink</td>\n",
       "      <td>Wachten op dit bericht\\n</td>\n",
       "      <td>eye-catching-wolf</td>\n",
       "    </tr>\n",
       "    <tr>\n",
       "      <th>3</th>\n",
       "      <td>2022-09-16 07:31:00</td>\n",
       "      <td>Smeerbeer van Dijk</td>\n",
       "      <td>Wachten op dit bericht\\n</td>\n",
       "      <td>spattered-duck</td>\n",
       "    </tr>\n",
       "    <tr>\n",
       "      <th>4</th>\n",
       "      <td>2022-09-16 07:41:00</td>\n",
       "      <td>Schjöpschen</td>\n",
       "      <td>16-09-2022 07:41 - Schjöpschen: Wachten op dit...</td>\n",
       "      <td>riotous-dingo</td>\n",
       "    </tr>\n",
       "  </tbody>\n",
       "</table>\n",
       "</div>"
      ],
      "text/plain": [
       "            timestamp               author  \\\n",
       "0 2017-05-12 17:43:00              Unknown   \n",
       "1 2017-05-12 17:43:00              Unknown   \n",
       "2 2022-09-16 09:26:00  Bas hooge Venterink   \n",
       "3 2022-09-16 07:31:00   Smeerbeer van Dijk   \n",
       "4 2022-09-16 07:41:00          Schjöpschen   \n",
       "\n",
       "                                             message         anon_author  \n",
       "0  12-05-2017 17:43 - ‎Thies Jan Weijmans heeft d...  glittering-penguin  \n",
       "1            12-05-2017 17:43 - Je bent toegevoegd\\n  glittering-penguin  \n",
       "2                           Wachten op dit bericht\\n   eye-catching-wolf  \n",
       "3                           Wachten op dit bericht\\n      spattered-duck  \n",
       "4  16-09-2022 07:41 - Schjöpschen: Wachten op dit...       riotous-dingo  "
      ]
     },
     "execution_count": 8,
     "metadata": {},
     "output_type": "execute_result"
    }
   ],
   "source": [
    "df[\"anon_author\"] = df.author.map(anon)\n",
    "df.head()"
   ]
  },
  {
   "cell_type": "markdown",
   "id": "a4b054e9",
   "metadata": {},
   "source": [
    "Drop original author"
   ]
  },
  {
   "cell_type": "code",
   "execution_count": 9,
   "id": "67c199d1",
   "metadata": {},
   "outputs": [],
   "source": [
    "df.drop(columns=[\"author\"], inplace=True)"
   ]
  },
  {
   "cell_type": "markdown",
   "id": "c7616cbb",
   "metadata": {},
   "source": [
    "check if original author is gone"
   ]
  },
  {
   "cell_type": "code",
   "execution_count": null,
   "id": "e1a54fea",
   "metadata": {},
   "outputs": [],
   "source": [
    "df.head()"
   ]
  },
  {
   "cell_type": "markdown",
   "id": "b3d3aa56",
   "metadata": {},
   "source": [
    "rename new author to author"
   ]
  },
  {
   "cell_type": "code",
   "execution_count": 10,
   "id": "5138a3d1",
   "metadata": {},
   "outputs": [],
   "source": [
    "df.rename(columns={\"anon_author\": \"author\"}, inplace=True)"
   ]
  },
  {
   "cell_type": "markdown",
   "id": "06b1f2b2",
   "metadata": {},
   "source": [
    "Remove header of data which is a generate chat"
   ]
  },
  {
   "cell_type": "code",
   "execution_count": 11,
   "id": "ee9e0b4a",
   "metadata": {},
   "outputs": [],
   "source": [
    "df = df.drop(index=[0])"
   ]
  },
  {
   "cell_type": "markdown",
   "id": "2692dd1d",
   "metadata": {},
   "source": [
    "Find emoji's and add that as feature"
   ]
  },
  {
   "cell_type": "code",
   "execution_count": 12,
   "id": "a627b081",
   "metadata": {},
   "outputs": [],
   "source": [
    "emoji_pattern = re.compile(\n",
    "    \"[\"\n",
    "    \"\\U0001f600-\\U0001f64f\"  # emoticons\n",
    "    \"\\U0001f300-\\U0001f5ff\"  # symbols & pictographs\n",
    "    \"\\U0001f680-\\U0001f6ff\"  # transport & map symbols\n",
    "    \"\\U0001f1e0-\\U0001f1ff\"  # flags (iOS)\n",
    "    \"\\U00002702-\\U000027b0\"  # Dingbats\n",
    "    \"\\U000024c2-\\U0001f251\"\n",
    "    \"]+\",\n",
    "    flags=re.UNICODE,\n",
    ")\n",
    "\n",
    "\n",
    "def has_emoji(text):\n",
    "    return bool(emoji_pattern.search(text))\n",
    "\n",
    "\n",
    "df[\"has_emoji\"] = df[\"message\"].apply(has_emoji)"
   ]
  },
  {
   "cell_type": "markdown",
   "id": "0e562e79",
   "metadata": {},
   "source": [
    "Create timestamp"
   ]
  },
  {
   "cell_type": "code",
   "execution_count": 13,
   "id": "1eb2920b",
   "metadata": {},
   "outputs": [
    {
     "data": {
      "text/plain": [
       "'20250923-192055'"
      ]
     },
     "execution_count": 13,
     "metadata": {},
     "output_type": "execute_result"
    }
   ],
   "source": [
    "import pytz\n",
    "\n",
    "now = datetime.now(tz=pytz.timezone('Europe/Amsterdam')).strftime(\"%Y%m%d-%H%M%S\")\n",
    "now"
   ]
  },
  {
   "cell_type": "code",
   "execution_count": 14,
   "id": "74661f7d",
   "metadata": {},
   "outputs": [
    {
     "data": {
      "text/plain": [
       "PosixPath('../data/processed/whatsapp-20250923-192055.csv')"
      ]
     },
     "execution_count": 14,
     "metadata": {},
     "output_type": "execute_result"
    }
   ],
   "source": [
    "output = processed / f\"whatsapp-{now}.csv\"\n",
    "output"
   ]
  },
  {
   "cell_type": "markdown",
   "id": "6b9f4516",
   "metadata": {},
   "source": [
    "Save as parquet and as csv"
   ]
  },
  {
   "cell_type": "code",
   "execution_count": 15,
   "id": "8191e295",
   "metadata": {},
   "outputs": [],
   "source": [
    "df.to_csv(output, index=False)\n",
    "df.to_parquet(output.with_suffix(\".parq\"), index=False)"
   ]
  }
 ],
 "metadata": {
  "kernelspec": {
   "display_name": "dav",
   "language": "python",
   "name": "python3"
  },
  "language_info": {
   "codemirror_mode": {
    "name": "ipython",
    "version": 3
   },
   "file_extension": ".py",
   "mimetype": "text/x-python",
   "name": "python",
   "nbconvert_exporter": "python",
   "pygments_lexer": "ipython3",
   "version": "3.12.8"
  }
 },
 "nbformat": 4,
 "nbformat_minor": 5
}
