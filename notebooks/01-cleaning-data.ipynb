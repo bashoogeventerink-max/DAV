{
 "cells": [
  {
   "cell_type": "code",
   "execution_count": null,
   "id": "e2c84e7d",
   "metadata": {},
   "outputs": [
    {
     "ename": "",
     "evalue": "",
     "output_type": "error",
     "traceback": [
      "\u001b[1;31mRunning cells with 'dav (Python 3.12.8)' requires the ipykernel package.\n",
      "\u001b[1;31mInstall 'ipykernel' into the Python environment. \n",
      "\u001b[1;31mCommand: '/home/azureuser/DAV/.venv/bin/python -m pip install ipykernel -U --force-reinstall'"
     ]
    }
   ],
   "source": [
    "from pathlib import Path\n",
    "from loguru import logger\n",
    "import pandas as pd\n",
    "from datetime import datetime"
   ]
  },
  {
   "cell_type": "markdown",
   "id": "73f6851a",
   "metadata": {},
   "source": [
    "read file   "
   ]
  },
  {
   "cell_type": "code",
   "execution_count": null,
   "id": "6792fb62",
   "metadata": {},
   "outputs": [],
   "source": [
    "import tomllib\n",
    "\n",
    "configfile = Path(\"../config.toml\").resolve()\n",
    "with configfile.open(\"rb\") as f:\n",
    "    config = tomllib.load(f)\n",
    "processed = Path(\"../data/processed\")\n",
    "datafile = processed / config[\"inputpath\"]\n",
    "if not datafile.exists():\n",
    "    logger.warning(\n",
    "        f\"{datafile} does not exist. Maybe first run src/preprocess.py, or check the timestamp!\"\n",
    "    )"
   ]
  }
 ],
 "metadata": {
  "kernelspec": {
   "display_name": "dav",
   "language": "python",
   "name": "python3"
  },
  "language_info": {
   "name": "python",
   "version": "3.12.8"
  }
 },
 "nbformat": 4,
 "nbformat_minor": 5
}
