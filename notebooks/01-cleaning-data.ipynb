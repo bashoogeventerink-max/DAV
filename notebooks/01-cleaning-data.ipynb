{
 "cells": [
  {
   "cell_type": "code",
   "execution_count": 23,
   "id": "e2c84e7d",
   "metadata": {},
   "outputs": [],
   "source": [
    "from pathlib import Path\n",
    "from loguru import logger\n",
    "import pandas as pd\n",
    "from datetime import datetime"
   ]
  },
  {
   "cell_type": "markdown",
   "id": "73f6851a",
   "metadata": {},
   "source": [
    "read file   "
   ]
  },
  {
   "cell_type": "code",
   "execution_count": 24,
   "id": "6792fb62",
   "metadata": {},
   "outputs": [],
   "source": [
    "import tomllib\n",
    "\n",
    "configfile = Path(\"../config.toml\").resolve()\n",
    "with configfile.open(\"rb\") as f:\n",
    "    config = tomllib.load(f)\n",
    "processed = Path(\"../data/processed\")\n",
    "datafile = processed / config[\"inputpath\"]\n",
    "if not datafile.exists():\n",
    "    logger.warning(\n",
    "        f\"{datafile} does not exist. Maybe first run src/preprocess.py, or check the timestamp!\"\n",
    "    )"
   ]
  },
  {
   "cell_type": "code",
   "execution_count": 25,
   "id": "efc4e39e",
   "metadata": {},
   "outputs": [
    {
     "data": {
      "text/html": [
       "<div>\n",
       "<style scoped>\n",
       "    .dataframe tbody tr th:only-of-type {\n",
       "        vertical-align: middle;\n",
       "    }\n",
       "\n",
       "    .dataframe tbody tr th {\n",
       "        vertical-align: top;\n",
       "    }\n",
       "\n",
       "    .dataframe thead th {\n",
       "        text-align: right;\n",
       "    }\n",
       "</style>\n",
       "<table border=\"1\" class=\"dataframe\">\n",
       "  <thead>\n",
       "    <tr style=\"text-align: right;\">\n",
       "      <th></th>\n",
       "      <th>timestamp</th>\n",
       "      <th>author</th>\n",
       "      <th>message</th>\n",
       "    </tr>\n",
       "  </thead>\n",
       "  <tbody>\n",
       "    <tr>\n",
       "      <th>0</th>\n",
       "      <td>2017-05-12 17:43:00</td>\n",
       "      <td>Unknown</td>\n",
       "      <td>12-05-2017 17:43 - ‎Thies Jan Weijmans heeft d...</td>\n",
       "    </tr>\n",
       "    <tr>\n",
       "      <th>1</th>\n",
       "      <td>2017-05-12 17:43:00</td>\n",
       "      <td>Unknown</td>\n",
       "      <td>12-05-2017 17:43 - Je bent toegevoegd\\n</td>\n",
       "    </tr>\n",
       "    <tr>\n",
       "      <th>2</th>\n",
       "      <td>2022-09-16 09:26:00</td>\n",
       "      <td>Bas hooge Venterink</td>\n",
       "      <td>Wachten op dit bericht\\n</td>\n",
       "    </tr>\n",
       "    <tr>\n",
       "      <th>3</th>\n",
       "      <td>2022-09-16 07:31:00</td>\n",
       "      <td>Smeerbeer van Dijk</td>\n",
       "      <td>Wachten op dit bericht\\n</td>\n",
       "    </tr>\n",
       "    <tr>\n",
       "      <th>4</th>\n",
       "      <td>2022-09-16 07:41:00</td>\n",
       "      <td>Schjöpschen</td>\n",
       "      <td>16-09-2022 07:41 - Schjöpschen: Wachten op dit...</td>\n",
       "    </tr>\n",
       "  </tbody>\n",
       "</table>\n",
       "</div>"
      ],
      "text/plain": [
       "            timestamp               author  \\\n",
       "0 2017-05-12 17:43:00              Unknown   \n",
       "1 2017-05-12 17:43:00              Unknown   \n",
       "2 2022-09-16 09:26:00  Bas hooge Venterink   \n",
       "3 2022-09-16 07:31:00   Smeerbeer van Dijk   \n",
       "4 2022-09-16 07:41:00          Schjöpschen   \n",
       "\n",
       "                                             message  \n",
       "0  12-05-2017 17:43 - ‎Thies Jan Weijmans heeft d...  \n",
       "1            12-05-2017 17:43 - Je bent toegevoegd\\n  \n",
       "2                           Wachten op dit bericht\\n  \n",
       "3                           Wachten op dit bericht\\n  \n",
       "4  16-09-2022 07:41 - Schjöpschen: Wachten op dit...  "
      ]
     },
     "execution_count": 25,
     "metadata": {},
     "output_type": "execute_result"
    }
   ],
   "source": [
    "df = pd.read_csv(datafile, parse_dates=[\"timestamp\"])\n",
    "df.head()"
   ]
  },
  {
   "cell_type": "code",
   "execution_count": 26,
   "id": "4586827a",
   "metadata": {},
   "outputs": [
    {
     "data": {
      "text/plain": [
       "timestamp    10143\n",
       "author       10143\n",
       "message      10143\n",
       "dtype: int64"
      ]
     },
     "execution_count": 26,
     "metadata": {},
     "output_type": "execute_result"
    }
   ],
   "source": [
    "df.count()"
   ]
  },
  {
   "cell_type": "markdown",
   "id": "9db385cc",
   "metadata": {},
   "source": [
    "Remove texts from Unknown author"
   ]
  },
  {
   "cell_type": "code",
   "execution_count": 27,
   "id": "1406d347",
   "metadata": {},
   "outputs": [
    {
     "data": {
      "text/html": [
       "<div>\n",
       "<style scoped>\n",
       "    .dataframe tbody tr th:only-of-type {\n",
       "        vertical-align: middle;\n",
       "    }\n",
       "\n",
       "    .dataframe tbody tr th {\n",
       "        vertical-align: top;\n",
       "    }\n",
       "\n",
       "    .dataframe thead th {\n",
       "        text-align: right;\n",
       "    }\n",
       "</style>\n",
       "<table border=\"1\" class=\"dataframe\">\n",
       "  <thead>\n",
       "    <tr style=\"text-align: right;\">\n",
       "      <th></th>\n",
       "      <th>timestamp</th>\n",
       "      <th>author</th>\n",
       "      <th>message</th>\n",
       "    </tr>\n",
       "  </thead>\n",
       "  <tbody>\n",
       "    <tr>\n",
       "      <th>2</th>\n",
       "      <td>2022-09-16 09:26:00</td>\n",
       "      <td>Bas hooge Venterink</td>\n",
       "      <td>Wachten op dit bericht\\n</td>\n",
       "    </tr>\n",
       "    <tr>\n",
       "      <th>3</th>\n",
       "      <td>2022-09-16 07:31:00</td>\n",
       "      <td>Smeerbeer van Dijk</td>\n",
       "      <td>Wachten op dit bericht\\n</td>\n",
       "    </tr>\n",
       "    <tr>\n",
       "      <th>4</th>\n",
       "      <td>2022-09-16 07:41:00</td>\n",
       "      <td>Schjöpschen</td>\n",
       "      <td>16-09-2022 07:41 - Schjöpschen: Wachten op dit...</td>\n",
       "    </tr>\n",
       "    <tr>\n",
       "      <th>5</th>\n",
       "      <td>2022-09-16 08:21:00</td>\n",
       "      <td>Jop van der Woning</td>\n",
       "      <td>Wachten op dit bericht\\n</td>\n",
       "    </tr>\n",
       "    <tr>\n",
       "      <th>6</th>\n",
       "      <td>2022-09-16 08:23:00</td>\n",
       "      <td>Thomas Grundel</td>\n",
       "      <td>Wachten op dit bericht\\n</td>\n",
       "    </tr>\n",
       "  </tbody>\n",
       "</table>\n",
       "</div>"
      ],
      "text/plain": [
       "            timestamp               author  \\\n",
       "2 2022-09-16 09:26:00  Bas hooge Venterink   \n",
       "3 2022-09-16 07:31:00   Smeerbeer van Dijk   \n",
       "4 2022-09-16 07:41:00          Schjöpschen   \n",
       "5 2022-09-16 08:21:00   Jop van der Woning   \n",
       "6 2022-09-16 08:23:00       Thomas Grundel   \n",
       "\n",
       "                                             message  \n",
       "2                           Wachten op dit bericht\\n  \n",
       "3                           Wachten op dit bericht\\n  \n",
       "4  16-09-2022 07:41 - Schjöpschen: Wachten op dit...  \n",
       "5                           Wachten op dit bericht\\n  \n",
       "6                           Wachten op dit bericht\\n  "
      ]
     },
     "execution_count": 27,
     "metadata": {},
     "output_type": "execute_result"
    }
   ],
   "source": [
    "df = df[df['author'] != 'Unknown']\n",
    "df.head()"
   ]
  },
  {
   "cell_type": "code",
   "execution_count": 28,
   "id": "413f0c26",
   "metadata": {},
   "outputs": [
    {
     "data": {
      "text/plain": [
       "timestamp    10137\n",
       "author       10137\n",
       "message      10137\n",
       "dtype: int64"
      ]
     },
     "execution_count": 28,
     "metadata": {},
     "output_type": "execute_result"
    }
   ],
   "source": [
    "df.count()"
   ]
  },
  {
   "cell_type": "markdown",
   "id": "2204361d",
   "metadata": {},
   "source": [
    "Remove texts with no message "
   ]
  },
  {
   "cell_type": "code",
   "execution_count": 30,
   "id": "5f1fc5d1",
   "metadata": {},
   "outputs": [
    {
     "data": {
      "text/html": [
       "<div>\n",
       "<style scoped>\n",
       "    .dataframe tbody tr th:only-of-type {\n",
       "        vertical-align: middle;\n",
       "    }\n",
       "\n",
       "    .dataframe tbody tr th {\n",
       "        vertical-align: top;\n",
       "    }\n",
       "\n",
       "    .dataframe thead th {\n",
       "        text-align: right;\n",
       "    }\n",
       "</style>\n",
       "<table border=\"1\" class=\"dataframe\">\n",
       "  <thead>\n",
       "    <tr style=\"text-align: right;\">\n",
       "      <th></th>\n",
       "      <th>timestamp</th>\n",
       "      <th>author</th>\n",
       "      <th>message</th>\n",
       "    </tr>\n",
       "  </thead>\n",
       "  <tbody>\n",
       "    <tr>\n",
       "      <th>12</th>\n",
       "      <td>2022-09-17 16:05:00</td>\n",
       "      <td>Bas hooge Venterink</td>\n",
       "      <td>Mensen die vnv nog willen chillen?\\n</td>\n",
       "    </tr>\n",
       "    <tr>\n",
       "      <th>13</th>\n",
       "      <td>2022-09-17 16:06:00</td>\n",
       "      <td>Thomas Grundel</td>\n",
       "      <td>Ik ben nog in Haarlem/Amsterdam\\n</td>\n",
       "    </tr>\n",
       "    <tr>\n",
       "      <th>14</th>\n",
       "      <td>2022-09-17 16:06:00</td>\n",
       "      <td>Robert te Vaarwerk</td>\n",
       "      <td>Sorry man ik heb feestje van familie\\n</td>\n",
       "    </tr>\n",
       "    <tr>\n",
       "      <th>15</th>\n",
       "      <td>2022-09-17 16:21:00</td>\n",
       "      <td>Bas hooge Venterink</td>\n",
       "      <td>Ai jammer\\n</td>\n",
       "    </tr>\n",
       "    <tr>\n",
       "      <th>16</th>\n",
       "      <td>2022-09-17 16:22:00</td>\n",
       "      <td>Bas hooge Venterink</td>\n",
       "      <td>Andere gegadigden?\\n</td>\n",
       "    </tr>\n",
       "  </tbody>\n",
       "</table>\n",
       "</div>"
      ],
      "text/plain": [
       "             timestamp               author  \\\n",
       "12 2022-09-17 16:05:00  Bas hooge Venterink   \n",
       "13 2022-09-17 16:06:00       Thomas Grundel   \n",
       "14 2022-09-17 16:06:00   Robert te Vaarwerk   \n",
       "15 2022-09-17 16:21:00  Bas hooge Venterink   \n",
       "16 2022-09-17 16:22:00  Bas hooge Venterink   \n",
       "\n",
       "                                    message  \n",
       "12     Mensen die vnv nog willen chillen?\\n  \n",
       "13        Ik ben nog in Haarlem/Amsterdam\\n  \n",
       "14   Sorry man ik heb feestje van familie\\n  \n",
       "15                              Ai jammer\\n  \n",
       "16                     Andere gegadigden?\\n  "
      ]
     },
     "execution_count": 30,
     "metadata": {},
     "output_type": "execute_result"
    }
   ],
   "source": [
    "df = df[~df['message'].str.contains('Wachten op dit bericht', na=False)]\n",
    "df.head()"
   ]
  },
  {
   "cell_type": "code",
   "execution_count": 31,
   "id": "130e1373",
   "metadata": {},
   "outputs": [
    {
     "data": {
      "text/plain": [
       "timestamp    10127\n",
       "author       10127\n",
       "message      10127\n",
       "dtype: int64"
      ]
     },
     "execution_count": 31,
     "metadata": {},
     "output_type": "execute_result"
    }
   ],
   "source": [
    "df.count()"
   ]
  },
  {
   "cell_type": "markdown",
   "id": "4691277b",
   "metadata": {},
   "source": [
    "Clean tilde of author name"
   ]
  },
  {
   "cell_type": "code",
   "execution_count": 32,
   "id": "7370da87",
   "metadata": {},
   "outputs": [],
   "source": [
    "import re\n",
    "\n",
    "clean_tilde = r\"^~\\u202f\"\n",
    "df[\"author\"] = df[\"author\"].apply(lambda x: re.sub(clean_tilde, \"\", x))"
   ]
  },
  {
   "cell_type": "markdown",
   "id": "e83ba5bc",
   "metadata": {},
   "source": [
    "Check unique author names"
   ]
  },
  {
   "cell_type": "code",
   "execution_count": 33,
   "id": "567c33bc",
   "metadata": {},
   "outputs": [
    {
     "name": "stdout",
     "output_type": "stream",
     "text": [
      "['Bas hooge Venterink' 'Thomas Grundel' 'Robert te Vaarwerk' 'Weda'\n",
      " 'Jop van der Woning' 'Smeerbeer van Dijk' 'Schjöpschen'\n",
      " 'Thies Jan Weijmans' 'Spiderman Spin']\n"
     ]
    }
   ],
   "source": [
    "print(df.author.unique())"
   ]
  },
  {
   "cell_type": "code",
   "execution_count": 36,
   "id": "5aa7aa0b",
   "metadata": {},
   "outputs": [
    {
     "data": {
      "text/html": [
       "<div>\n",
       "<style scoped>\n",
       "    .dataframe tbody tr th:only-of-type {\n",
       "        vertical-align: middle;\n",
       "    }\n",
       "\n",
       "    .dataframe tbody tr th {\n",
       "        vertical-align: top;\n",
       "    }\n",
       "\n",
       "    .dataframe thead th {\n",
       "        text-align: right;\n",
       "    }\n",
       "</style>\n",
       "<table border=\"1\" class=\"dataframe\">\n",
       "  <thead>\n",
       "    <tr style=\"text-align: right;\">\n",
       "      <th></th>\n",
       "      <th>timestamp</th>\n",
       "      <th>author</th>\n",
       "      <th>message</th>\n",
       "      <th>living_in_city</th>\n",
       "    </tr>\n",
       "  </thead>\n",
       "  <tbody>\n",
       "    <tr>\n",
       "      <th>12</th>\n",
       "      <td>2022-09-17 16:05:00</td>\n",
       "      <td>Bas hooge Venterink</td>\n",
       "      <td>Mensen die vnv nog willen chillen?\\n</td>\n",
       "      <td>1</td>\n",
       "    </tr>\n",
       "    <tr>\n",
       "      <th>13</th>\n",
       "      <td>2022-09-17 16:06:00</td>\n",
       "      <td>Thomas Grundel</td>\n",
       "      <td>Ik ben nog in Haarlem/Amsterdam\\n</td>\n",
       "      <td>0</td>\n",
       "    </tr>\n",
       "    <tr>\n",
       "      <th>14</th>\n",
       "      <td>2022-09-17 16:06:00</td>\n",
       "      <td>Robert te Vaarwerk</td>\n",
       "      <td>Sorry man ik heb feestje van familie\\n</td>\n",
       "      <td>1</td>\n",
       "    </tr>\n",
       "    <tr>\n",
       "      <th>15</th>\n",
       "      <td>2022-09-17 16:21:00</td>\n",
       "      <td>Bas hooge Venterink</td>\n",
       "      <td>Ai jammer\\n</td>\n",
       "      <td>1</td>\n",
       "    </tr>\n",
       "    <tr>\n",
       "      <th>16</th>\n",
       "      <td>2022-09-17 16:22:00</td>\n",
       "      <td>Bas hooge Venterink</td>\n",
       "      <td>Andere gegadigden?\\n</td>\n",
       "      <td>1</td>\n",
       "    </tr>\n",
       "  </tbody>\n",
       "</table>\n",
       "</div>"
      ],
      "text/plain": [
       "             timestamp               author  \\\n",
       "12 2022-09-17 16:05:00  Bas hooge Venterink   \n",
       "13 2022-09-17 16:06:00       Thomas Grundel   \n",
       "14 2022-09-17 16:06:00   Robert te Vaarwerk   \n",
       "15 2022-09-17 16:21:00  Bas hooge Venterink   \n",
       "16 2022-09-17 16:22:00  Bas hooge Venterink   \n",
       "\n",
       "                                    message  living_in_city  \n",
       "12     Mensen die vnv nog willen chillen?\\n               1  \n",
       "13        Ik ben nog in Haarlem/Amsterdam\\n               0  \n",
       "14   Sorry man ik heb feestje van familie\\n               1  \n",
       "15                              Ai jammer\\n               1  \n",
       "16                     Andere gegadigden?\\n               1  "
      ]
     },
     "execution_count": 36,
     "metadata": {},
     "output_type": "execute_result"
    }
   ],
   "source": [
    "import numpy as np\n",
    "\n",
    "df['living_in_city'] = np.where(\n",
    "    (df['author'] == 'Bas hooge Venterink') |\n",
    "    (df['author'] == 'Robert te Vaarwerk') |\n",
    "    (df['author'] == 'Spiderman Spin') |\n",
    "    (df['author'] == 'Thies Jan Weijmans') |\n",
    "    (df['author'] == 'Smeerbeer van Dijk'),\n",
    "    1,\n",
    "    0\n",
    ")\n",
    "\n",
    "df.head()"
   ]
  },
  {
   "cell_type": "markdown",
   "id": "bf89542b",
   "metadata": {},
   "source": [
    "Check the datatypes"
   ]
  },
  {
   "cell_type": "code",
   "execution_count": 37,
   "id": "76c74abd",
   "metadata": {},
   "outputs": [
    {
     "data": {
      "text/plain": [
       "timestamp         datetime64[ns]\n",
       "author                    object\n",
       "message                   object\n",
       "living_in_city             int64\n",
       "dtype: object"
      ]
     },
     "execution_count": 37,
     "metadata": {},
     "output_type": "execute_result"
    }
   ],
   "source": [
    "df.dtypes"
   ]
  },
  {
   "cell_type": "markdown",
   "id": "2c7be71f",
   "metadata": {},
   "source": [
    "Anonomize authors"
   ]
  },
  {
   "cell_type": "code",
   "execution_count": 38,
   "id": "780bd546",
   "metadata": {},
   "outputs": [],
   "source": [
    "import json\n",
    "from wa_analyzer.humanhasher import humanize\n",
    "\n",
    "authors = df.author.unique()\n",
    "anon = {k: humanize(k) for k in authors}\n",
    "# we save a reference file so we can look up the original author names if we want to\n",
    "reference_file = processed / \"anon_reference.json\"\n",
    "\n",
    "with open(reference_file, \"w\") as f:\n",
    "    # invert the dictionary:\n",
    "    ref = {v: k for k, v in anon.items()}\n",
    "    # sort alphabetically:\n",
    "    ref_sorted = {k: ref[k] for k in sorted(ref.keys())}\n",
    "    # save as json:\n",
    "    json.dump(ref_sorted, f)\n",
    "\n",
    "\n",
    "if not len(anon) == len(authors):\n",
    "    raise ValueError(\"you lost some authors!\")"
   ]
  },
  {
   "cell_type": "code",
   "execution_count": 39,
   "id": "42b28229",
   "metadata": {},
   "outputs": [
    {
     "data": {
      "text/html": [
       "<div>\n",
       "<style scoped>\n",
       "    .dataframe tbody tr th:only-of-type {\n",
       "        vertical-align: middle;\n",
       "    }\n",
       "\n",
       "    .dataframe tbody tr th {\n",
       "        vertical-align: top;\n",
       "    }\n",
       "\n",
       "    .dataframe thead th {\n",
       "        text-align: right;\n",
       "    }\n",
       "</style>\n",
       "<table border=\"1\" class=\"dataframe\">\n",
       "  <thead>\n",
       "    <tr style=\"text-align: right;\">\n",
       "      <th></th>\n",
       "      <th>timestamp</th>\n",
       "      <th>author</th>\n",
       "      <th>message</th>\n",
       "      <th>living_in_city</th>\n",
       "      <th>anon_author</th>\n",
       "    </tr>\n",
       "  </thead>\n",
       "  <tbody>\n",
       "    <tr>\n",
       "      <th>12</th>\n",
       "      <td>2022-09-17 16:05:00</td>\n",
       "      <td>Bas hooge Venterink</td>\n",
       "      <td>Mensen die vnv nog willen chillen?\\n</td>\n",
       "      <td>1</td>\n",
       "      <td>eye-catching-wolf</td>\n",
       "    </tr>\n",
       "    <tr>\n",
       "      <th>13</th>\n",
       "      <td>2022-09-17 16:06:00</td>\n",
       "      <td>Thomas Grundel</td>\n",
       "      <td>Ik ben nog in Haarlem/Amsterdam\\n</td>\n",
       "      <td>0</td>\n",
       "      <td>hypnotic-rabbit</td>\n",
       "    </tr>\n",
       "    <tr>\n",
       "      <th>14</th>\n",
       "      <td>2022-09-17 16:06:00</td>\n",
       "      <td>Robert te Vaarwerk</td>\n",
       "      <td>Sorry man ik heb feestje van familie\\n</td>\n",
       "      <td>1</td>\n",
       "      <td>nutty-chough</td>\n",
       "    </tr>\n",
       "    <tr>\n",
       "      <th>15</th>\n",
       "      <td>2022-09-17 16:21:00</td>\n",
       "      <td>Bas hooge Venterink</td>\n",
       "      <td>Ai jammer\\n</td>\n",
       "      <td>1</td>\n",
       "      <td>eye-catching-wolf</td>\n",
       "    </tr>\n",
       "    <tr>\n",
       "      <th>16</th>\n",
       "      <td>2022-09-17 16:22:00</td>\n",
       "      <td>Bas hooge Venterink</td>\n",
       "      <td>Andere gegadigden?\\n</td>\n",
       "      <td>1</td>\n",
       "      <td>eye-catching-wolf</td>\n",
       "    </tr>\n",
       "  </tbody>\n",
       "</table>\n",
       "</div>"
      ],
      "text/plain": [
       "             timestamp               author  \\\n",
       "12 2022-09-17 16:05:00  Bas hooge Venterink   \n",
       "13 2022-09-17 16:06:00       Thomas Grundel   \n",
       "14 2022-09-17 16:06:00   Robert te Vaarwerk   \n",
       "15 2022-09-17 16:21:00  Bas hooge Venterink   \n",
       "16 2022-09-17 16:22:00  Bas hooge Venterink   \n",
       "\n",
       "                                    message  living_in_city        anon_author  \n",
       "12     Mensen die vnv nog willen chillen?\\n               1  eye-catching-wolf  \n",
       "13        Ik ben nog in Haarlem/Amsterdam\\n               0    hypnotic-rabbit  \n",
       "14   Sorry man ik heb feestje van familie\\n               1       nutty-chough  \n",
       "15                              Ai jammer\\n               1  eye-catching-wolf  \n",
       "16                     Andere gegadigden?\\n               1  eye-catching-wolf  "
      ]
     },
     "execution_count": 39,
     "metadata": {},
     "output_type": "execute_result"
    }
   ],
   "source": [
    "df[\"anon_author\"] = df.author.map(anon)\n",
    "df.head()"
   ]
  },
  {
   "cell_type": "markdown",
   "id": "a4b054e9",
   "metadata": {},
   "source": [
    "Drop original author"
   ]
  },
  {
   "cell_type": "code",
   "execution_count": 40,
   "id": "67c199d1",
   "metadata": {},
   "outputs": [],
   "source": [
    "df.drop(columns=[\"author\"], inplace=True)"
   ]
  },
  {
   "cell_type": "markdown",
   "id": "c7616cbb",
   "metadata": {},
   "source": [
    "check if original author is gone"
   ]
  },
  {
   "cell_type": "code",
   "execution_count": 41,
   "id": "e1a54fea",
   "metadata": {},
   "outputs": [
    {
     "data": {
      "text/html": [
       "<div>\n",
       "<style scoped>\n",
       "    .dataframe tbody tr th:only-of-type {\n",
       "        vertical-align: middle;\n",
       "    }\n",
       "\n",
       "    .dataframe tbody tr th {\n",
       "        vertical-align: top;\n",
       "    }\n",
       "\n",
       "    .dataframe thead th {\n",
       "        text-align: right;\n",
       "    }\n",
       "</style>\n",
       "<table border=\"1\" class=\"dataframe\">\n",
       "  <thead>\n",
       "    <tr style=\"text-align: right;\">\n",
       "      <th></th>\n",
       "      <th>timestamp</th>\n",
       "      <th>message</th>\n",
       "      <th>living_in_city</th>\n",
       "      <th>anon_author</th>\n",
       "    </tr>\n",
       "  </thead>\n",
       "  <tbody>\n",
       "    <tr>\n",
       "      <th>12</th>\n",
       "      <td>2022-09-17 16:05:00</td>\n",
       "      <td>Mensen die vnv nog willen chillen?\\n</td>\n",
       "      <td>1</td>\n",
       "      <td>eye-catching-wolf</td>\n",
       "    </tr>\n",
       "    <tr>\n",
       "      <th>13</th>\n",
       "      <td>2022-09-17 16:06:00</td>\n",
       "      <td>Ik ben nog in Haarlem/Amsterdam\\n</td>\n",
       "      <td>0</td>\n",
       "      <td>hypnotic-rabbit</td>\n",
       "    </tr>\n",
       "    <tr>\n",
       "      <th>14</th>\n",
       "      <td>2022-09-17 16:06:00</td>\n",
       "      <td>Sorry man ik heb feestje van familie\\n</td>\n",
       "      <td>1</td>\n",
       "      <td>nutty-chough</td>\n",
       "    </tr>\n",
       "    <tr>\n",
       "      <th>15</th>\n",
       "      <td>2022-09-17 16:21:00</td>\n",
       "      <td>Ai jammer\\n</td>\n",
       "      <td>1</td>\n",
       "      <td>eye-catching-wolf</td>\n",
       "    </tr>\n",
       "    <tr>\n",
       "      <th>16</th>\n",
       "      <td>2022-09-17 16:22:00</td>\n",
       "      <td>Andere gegadigden?\\n</td>\n",
       "      <td>1</td>\n",
       "      <td>eye-catching-wolf</td>\n",
       "    </tr>\n",
       "  </tbody>\n",
       "</table>\n",
       "</div>"
      ],
      "text/plain": [
       "             timestamp                                  message  \\\n",
       "12 2022-09-17 16:05:00     Mensen die vnv nog willen chillen?\\n   \n",
       "13 2022-09-17 16:06:00        Ik ben nog in Haarlem/Amsterdam\\n   \n",
       "14 2022-09-17 16:06:00   Sorry man ik heb feestje van familie\\n   \n",
       "15 2022-09-17 16:21:00                              Ai jammer\\n   \n",
       "16 2022-09-17 16:22:00                     Andere gegadigden?\\n   \n",
       "\n",
       "    living_in_city        anon_author  \n",
       "12               1  eye-catching-wolf  \n",
       "13               0    hypnotic-rabbit  \n",
       "14               1       nutty-chough  \n",
       "15               1  eye-catching-wolf  \n",
       "16               1  eye-catching-wolf  "
      ]
     },
     "execution_count": 41,
     "metadata": {},
     "output_type": "execute_result"
    }
   ],
   "source": [
    "df.head()"
   ]
  },
  {
   "cell_type": "markdown",
   "id": "b3d3aa56",
   "metadata": {},
   "source": [
    "rename new author to author"
   ]
  },
  {
   "cell_type": "code",
   "execution_count": 42,
   "id": "5138a3d1",
   "metadata": {},
   "outputs": [],
   "source": [
    "df.rename(columns={\"anon_author\": \"author\"}, inplace=True)"
   ]
  },
  {
   "cell_type": "markdown",
   "id": "2692dd1d",
   "metadata": {},
   "source": [
    "Find emoji's and add that as feature"
   ]
  },
  {
   "cell_type": "code",
   "execution_count": 44,
   "id": "a627b081",
   "metadata": {},
   "outputs": [],
   "source": [
    "emoji_pattern = re.compile(\n",
    "    \"[\"\n",
    "    \"\\U0001f600-\\U0001f64f\"  # emoticons\n",
    "    \"\\U0001f300-\\U0001f5ff\"  # symbols & pictographs\n",
    "    \"\\U0001f680-\\U0001f6ff\"  # transport & map symbols\n",
    "    \"\\U0001f1e0-\\U0001f1ff\"  # flags (iOS)\n",
    "    \"\\U00002702-\\U000027b0\"  # Dingbats\n",
    "    \"\\U000024c2-\\U0001f251\"\n",
    "    \"]+\",\n",
    "    flags=re.UNICODE,\n",
    ")\n",
    "\n",
    "\n",
    "def has_emoji(text):\n",
    "    return bool(emoji_pattern.search(text))\n",
    "\n",
    "\n",
    "df[\"has_emoji\"] = df[\"message\"].apply(has_emoji)"
   ]
  },
  {
   "cell_type": "markdown",
   "id": "0e562e79",
   "metadata": {},
   "source": [
    "Create timestamp"
   ]
  },
  {
   "cell_type": "code",
   "execution_count": 45,
   "id": "1eb2920b",
   "metadata": {},
   "outputs": [
    {
     "data": {
      "text/plain": [
       "'20250928-214244'"
      ]
     },
     "execution_count": 45,
     "metadata": {},
     "output_type": "execute_result"
    }
   ],
   "source": [
    "import pytz\n",
    "\n",
    "now = datetime.now(tz=pytz.timezone('Europe/Amsterdam')).strftime(\"%Y%m%d-%H%M%S\")\n",
    "now"
   ]
  },
  {
   "cell_type": "code",
   "execution_count": 46,
   "id": "74661f7d",
   "metadata": {},
   "outputs": [
    {
     "data": {
      "text/plain": [
       "PosixPath('../data/processed/whatsapp-20250928-214244.csv')"
      ]
     },
     "execution_count": 46,
     "metadata": {},
     "output_type": "execute_result"
    }
   ],
   "source": [
    "output = processed / f\"whatsapp-{now}.csv\"\n",
    "output"
   ]
  },
  {
   "cell_type": "markdown",
   "id": "6b9f4516",
   "metadata": {},
   "source": [
    "Save as parquet and as csv"
   ]
  },
  {
   "cell_type": "code",
   "execution_count": 47,
   "id": "8191e295",
   "metadata": {},
   "outputs": [],
   "source": [
    "df.to_csv(output, index=False)\n",
    "df.to_parquet(output.with_suffix(\".parq\"), index=False)"
   ]
  }
 ],
 "metadata": {
  "kernelspec": {
   "display_name": "dav",
   "language": "python",
   "name": "python3"
  },
  "language_info": {
   "codemirror_mode": {
    "name": "ipython",
    "version": 3
   },
   "file_extension": ".py",
   "mimetype": "text/x-python",
   "name": "python",
   "nbconvert_exporter": "python",
   "pygments_lexer": "ipython3",
   "version": "3.12.8"
  }
 },
 "nbformat": 4,
 "nbformat_minor": 5
}
